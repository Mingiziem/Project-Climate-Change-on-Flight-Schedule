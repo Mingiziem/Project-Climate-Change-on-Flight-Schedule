{
 "cells": [
  {
   "cell_type": "markdown",
   "metadata": {},
   "source": [
    "<h1> This Climate change: its impact on aviation on schedule disruption"
   ]
  },
  {
   "cell_type": "markdown",
   "metadata": {},
   "source": [
    "<p>There is justifiably a good deal of analysis of aviation's impact on climate change.\n",
    "\n",
    "Fewer column inches have been given to the impact of climate change on aviation.\n",
    "\n",
    "The main expected impacts of climate change on aviation result from changes in temperature, precipitation (rain and snow), storm patterns, sea level and wind patterns. In addition, climate change is expected to lead to increased drought, impacts on the supply of water and energy, and changes in wildlife patterns and biodiversity. Consequences for aviation include reduced aircraft performance, changing demand patterns, potential damage to infrastructure, <b>loss of capacity and schedule disruption</b>.</p>\n",
    "<h4>****Based on dataset 2008 and 2015 and 2020 on Jan</h4>"
   ]
  },
  {
   "cell_type": "code",
   "execution_count": 1,
   "metadata": {},
   "outputs": [],
   "source": [
    "import datetime, warnings, scipy \n",
    "import pandas as pd\n",
    "import numpy as np\n",
    "import seaborn as sns\n",
    "import matplotlib as mpl\n",
    "import matplotlib.pyplot as plt\n",
    "import matplotlib.patches as patches\n",
    "from matplotlib.patches import ConnectionPatch\n",
    "from collections import OrderedDict\n",
    "from matplotlib.gridspec import GridSpec\n",
    "from mpl_toolkits.basemap import Basemap\n",
    "from sklearn import metrics, linear_model\n",
    "from sklearn.preprocessing import PolynomialFeatures, StandardScaler\n",
    "from sklearn.preprocessing import LabelEncoder, OneHotEncoder\n",
    "from sklearn.model_selection import train_test_split, cross_val_score, cross_val_predict\n",
    "from scipy.optimize import curve_fit\n",
    "from IPython.core.interactiveshell import InteractiveShell\n",
    "InteractiveShell.ast_node_interactivity = \"last_expr\"\n",
    "pd.options.display.max_columns = 50\n",
    "%matplotlib inline\n",
    "warnings.filterwarnings(\"ignore\")\n",
    "from datetime import datetime\n",
    "import sqlalchemy\n",
    "from sqlalchemy import create_engine\n",
    "import pymysql"
   ]
  },
  {
   "cell_type": "code",
   "execution_count": 2,
   "metadata": {},
   "outputs": [
    {
     "data": {
      "text/html": [
       "<div>\n",
       "<style scoped>\n",
       "    .dataframe tbody tr th:only-of-type {\n",
       "        vertical-align: middle;\n",
       "    }\n",
       "\n",
       "    .dataframe tbody tr th {\n",
       "        vertical-align: top;\n",
       "    }\n",
       "\n",
       "    .dataframe thead th {\n",
       "        text-align: right;\n",
       "    }\n",
       "</style>\n",
       "<table border=\"1\" class=\"dataframe\">\n",
       "  <thead>\n",
       "    <tr style=\"text-align: right;\">\n",
       "      <th></th>\n",
       "      <th>MONTH</th>\n",
       "      <th>DAY</th>\n",
       "      <th>DAY_OF_WEEK</th>\n",
       "      <th>AIRLINE</th>\n",
       "      <th>ORIGIN_AIRPORT</th>\n",
       "      <th>DESTINATION_AIRPORT</th>\n",
       "      <th>SCHEDULED_DEPARTURE</th>\n",
       "      <th>DEPARTURE_TIME</th>\n",
       "      <th>DEPARTURE_DELAY</th>\n",
       "      <th>SCHEDULED_TIME</th>\n",
       "      <th>ELAPSED_TIME</th>\n",
       "      <th>AIR_TIME</th>\n",
       "      <th>DISTANCE</th>\n",
       "      <th>SCHEDULED_ARRIVAL</th>\n",
       "      <th>ARRIVAL_TIME</th>\n",
       "      <th>ARRIVAL_DELAY</th>\n",
       "      <th>AIR_SYSTEM_DELAY</th>\n",
       "      <th>SECURITY_DELAY</th>\n",
       "      <th>AIRLINE_DELAY</th>\n",
       "      <th>LATE_AIRCRAFT_DELAY</th>\n",
       "      <th>WEATHER_DELAY</th>\n",
       "    </tr>\n",
       "    <tr>\n",
       "      <th>YEAR</th>\n",
       "      <th></th>\n",
       "      <th></th>\n",
       "      <th></th>\n",
       "      <th></th>\n",
       "      <th></th>\n",
       "      <th></th>\n",
       "      <th></th>\n",
       "      <th></th>\n",
       "      <th></th>\n",
       "      <th></th>\n",
       "      <th></th>\n",
       "      <th></th>\n",
       "      <th></th>\n",
       "      <th></th>\n",
       "      <th></th>\n",
       "      <th></th>\n",
       "      <th></th>\n",
       "      <th></th>\n",
       "      <th></th>\n",
       "      <th></th>\n",
       "      <th></th>\n",
       "    </tr>\n",
       "  </thead>\n",
       "  <tbody>\n",
       "    <tr>\n",
       "      <th>2015</th>\n",
       "      <td>1</td>\n",
       "      <td>1</td>\n",
       "      <td>4</td>\n",
       "      <td>AS</td>\n",
       "      <td>ANC</td>\n",
       "      <td>SEA</td>\n",
       "      <td>5</td>\n",
       "      <td>2354.0</td>\n",
       "      <td>-11.0</td>\n",
       "      <td>205.0</td>\n",
       "      <td>194.0</td>\n",
       "      <td>169.0</td>\n",
       "      <td>1448</td>\n",
       "      <td>430</td>\n",
       "      <td>408.0</td>\n",
       "      <td>-22.0</td>\n",
       "      <td>0.0</td>\n",
       "      <td>0.0</td>\n",
       "      <td>0.0</td>\n",
       "      <td>0.0</td>\n",
       "      <td>0.0</td>\n",
       "    </tr>\n",
       "    <tr>\n",
       "      <th>2015</th>\n",
       "      <td>1</td>\n",
       "      <td>1</td>\n",
       "      <td>4</td>\n",
       "      <td>AA</td>\n",
       "      <td>LAX</td>\n",
       "      <td>PBI</td>\n",
       "      <td>10</td>\n",
       "      <td>2.0</td>\n",
       "      <td>-8.0</td>\n",
       "      <td>280.0</td>\n",
       "      <td>279.0</td>\n",
       "      <td>263.0</td>\n",
       "      <td>2330</td>\n",
       "      <td>750</td>\n",
       "      <td>741.0</td>\n",
       "      <td>-9.0</td>\n",
       "      <td>0.0</td>\n",
       "      <td>0.0</td>\n",
       "      <td>0.0</td>\n",
       "      <td>0.0</td>\n",
       "      <td>0.0</td>\n",
       "    </tr>\n",
       "  </tbody>\n",
       "</table>\n",
       "</div>"
      ],
      "text/plain": [
       "      MONTH  DAY  DAY_OF_WEEK AIRLINE ORIGIN_AIRPORT DESTINATION_AIRPORT  \\\n",
       "YEAR                                                                       \n",
       "2015      1    1            4      AS            ANC                 SEA   \n",
       "2015      1    1            4      AA            LAX                 PBI   \n",
       "\n",
       "      SCHEDULED_DEPARTURE  DEPARTURE_TIME  DEPARTURE_DELAY  SCHEDULED_TIME  \\\n",
       "YEAR                                                                         \n",
       "2015                    5          2354.0            -11.0           205.0   \n",
       "2015                   10             2.0             -8.0           280.0   \n",
       "\n",
       "      ELAPSED_TIME  AIR_TIME  DISTANCE  SCHEDULED_ARRIVAL  ARRIVAL_TIME  \\\n",
       "YEAR                                                                      \n",
       "2015         194.0     169.0      1448                430         408.0   \n",
       "2015         279.0     263.0      2330                750         741.0   \n",
       "\n",
       "      ARRIVAL_DELAY  AIR_SYSTEM_DELAY  SECURITY_DELAY  AIRLINE_DELAY  \\\n",
       "YEAR                                                                   \n",
       "2015          -22.0               0.0             0.0            0.0   \n",
       "2015           -9.0               0.0             0.0            0.0   \n",
       "\n",
       "      LATE_AIRCRAFT_DELAY  WEATHER_DELAY  \n",
       "YEAR                                      \n",
       "2015                  0.0            0.0  \n",
       "2015                  0.0            0.0  "
      ]
     },
     "execution_count": 2,
     "metadata": {},
     "output_type": "execute_result"
    }
   ],
   "source": [
    "#import cleaned dataset \n",
    "df1= pd.read_csv(\"Jan_2015_final.csv\", index_col=0)\n",
    "df1.head(2)"
   ]
  },
  {
   "cell_type": "markdown",
   "metadata": {},
   "source": [
    "Analysis of flight delay and causal factors is crucial in maintaining airspace efficiency and safety. However, delay samples are not independent since they always show a certain aggregation pattern. Therefore, this anaysis develops to explore the delay and causal factors which is able to take dependence and the possible problem involved including error correlation and variable lag effect of causal factors on delay into account. The study first explores the delay aggregation pattern by measuring and quantifying the spatial dependence of delay. \n",
    "\n",
    "Moreover, the outcomes suggest that, aside from the well-known weather and flow control factors, delay-reduction strategies also need to pay more attention to reducing the impact of delay at the previous airport."
   ]
  },
  {
   "cell_type": "markdown",
   "metadata": {},
   "source": [
    "<h1> 1. Print out average time airlines will arrive to their gate"
   ]
  },
  {
   "cell_type": "code",
   "execution_count": 5,
   "metadata": {},
   "outputs": [
    {
     "name": "stdout",
     "output_type": "stream",
     "text": [
      "5.6533274605930615\n"
     ]
    }
   ],
   "source": [
    "Total_delay = df1['ARRIVAL_DELAY'].sum()\n",
    "Total_rows = len(df1.index)\n",
    "\n",
    "print(Total_delay / Total_rows)"
   ]
  },
  {
   "cell_type": "markdown",
   "metadata": {},
   "source": [
    "<h4>1.NAS Delay:</h4>\n",
    "\n",
    "Delay that is within the control of the National Airspace System (NAS) may include: non-extreme weather\n",
    "conditions, airport operations, heavy traffic volume, air traffic control, etc. Delays that occur after \n",
    "Actual Gate Out are usually attributed to the NAS and are also reported through OPSNET."
   ]
  },
  {
   "cell_type": "markdown",
   "metadata": {},
   "source": [
    "<h4>2. OPSNET Delay Cause:</h4>\n",
    "\n",
    "Delays to Instrument Flight Rules (IFR) traffic of 15 minutes or more, experienced by individual flights, \n",
    "which result from the ATC system detaining an aircraft at the gate, short of the runway, on the runway, \n",
    "on a taxiway, and/or in a holding configuration anywhere en route.\n",
    "\n",
    "Such delays include delays due to weather conditions at airports and en route (Weather), FAA and non-FAA \n",
    "equipment malfunctions (Equipment), the volume of traffic at an airport (Volume), reduction to runway capacity \n",
    "(Runway), and other factors (Others). Flight delays of less than 15 minutes are not reported in OPSNET. "
   ]
  },
  {
   "cell_type": "code",
   "execution_count": null,
   "metadata": {},
   "outputs": [],
   "source": [
    "df = df1.loc[(df1['ARRIVAL_DELAY'] != 0, ['ARRIVAL_DELAY'])]\n",
    "\n",
    "delays_airsys = df1.loc[(df1['ARRIVAL_DELAY'] > 0, ['ARRIVAL_DELAY'])].sum()\n",
    "notdelayed_airsys = df1.loc[(df1['NASDelay'] <= 0, ['ARRIVAL_DELAY'])].sum()\n",
    "\n",
    "count_sys = df1[(df1['NASDelay'] != 0)].count()\n",
    "count_sys_pos = df1.loc[(df1['NASDelay'] > 0, ['ARRIVAL_DELAY'])].count()"
   ]
  },
  {
   "cell_type": "markdown",
   "metadata": {},
   "source": [
    "<h4>3. Security Delay:</h4>"
   ]
  },
  {
   "cell_type": "markdown",
   "metadata": {},
   "source": [
    "Security delay is caused by evacuation of a terminal or concourse, re-boarding of aircraft because of security \n",
    "breach, inoperative screening equipment and/or long lines in excess of 29 minutes at screening areas."
   ]
  },
  {
   "cell_type": "code",
   "execution_count": null,
   "metadata": {},
   "outputs": [],
   "source": [
    "df = df1.loc[(df1['SecurityDelay'] != 0, ['ARRIVAL_DELAY'])]\n",
    "\n",
    "delays_airsec = df1.loc[(df1['SecurityDelay'] > 0, ['ARRIVAL_DELAY'])].sum()\n",
    "notdelayed_airsec = df1.loc[(df1['SecurityDelay'] <= 0, ['ARRIVAL_DELAY'])].sum()\n",
    "\n",
    "count_sec = df[(df1['SecurityDelay'] != 0)].count()\n",
    "count_sec_pos = df1.loc[(df1['SecurityDelay'] > 0, ['ARRIVAL_DELAY])].count()\n"
   ]
  },
  {
   "cell_type": "markdown",
   "metadata": {},
   "source": [
    "<h4>3.Carrier Delay:</h4>"
   ]
  },
  {
   "cell_type": "markdown",
   "metadata": {},
   "source": [
    "Carrier delay is within the control of the air carrier. Examples of occurrences that may determine carrier delay\n",
    "are: aircraft cleaning, aircraft damage, awaiting the arrival of connecting passengers or crew, baggage, bird \n",
    "strike, cargo loading, catering, computer, outage-carrier equipment, crew legality (pilot or attendant rest), \n",
    "damage by hazardous goods, engineering inspection, fueling, handling disabled passengers, late crew, lavatory \n",
    "servicing, maintenance, oversales, potable water servicing, removal of unruly passenger, slow boarding or seating, \n",
    "stowing carry-on baggage, weight and balance delays."
   ]
  },
  {
   "cell_type": "code",
   "execution_count": null,
   "metadata": {},
   "outputs": [],
   "source": [
    "df = df1.loc[(df1['CarrierDelay'] != 0, ['ARRIVAL_DELAY'])]\n",
    "\n",
    "delays_airair = df1.loc[(df1['CarrierDelay'] > 0, ['ARRIVAL_DELAY'])].sum()\n",
    "notdelayed_airair = df1.loc[(df1['CarrierDelay'] <= 0, ['ARRIVAL_DELAY'])].sum()\n",
    "\n",
    "count_air = df[(df1['CarrierDelay'] != 0)].count()\n",
    "count_air_pos = df1.loc[(df1['CarrierDelay'] > 0, ['ARRIVAL_DELAY'])].count()"
   ]
  },
  {
   "cell_type": "markdown",
   "metadata": {},
   "source": [
    "<h4>4.Late Arrival Delay:</h4>\n",
    "Arrival delay at an airport due to the late arrival of the same aircraft at a previous airport. The ripple \n",
    "effect of an earlier delay at downstream airports is referred to as delay propagation."
   ]
  },
  {
   "cell_type": "code",
   "execution_count": null,
   "metadata": {},
   "outputs": [],
   "source": [
    "df = df1.loc[(df1['LateAircraftDelay'] != 0, ['ARRIVAL_DELAY'])]\n",
    "\n",
    "delays_airlate = df1.loc[(df1['LateAircraftDelay'] > 0, ['ARRIVAL_DELAY'])].sum()\n",
    "notdelayed_airlate = df1.loc[(df1['LateAircraftDelay'] <= 0, ['ARRIVAL_DELAY'])].sum()\n",
    "\n",
    "count_late = df[(df1['LateAircraftDelay'] != 0)].count()\n",
    "count_late_pos = df1.loc[(df1['LateAircraftDelay'] > 0, ['ARRIVAL_DELAY'])].count()"
   ]
  },
  {
   "cell_type": "markdown",
   "metadata": {},
   "source": [
    "<h4>5. Weather Delay:</h4>\n",
    "\n",
    "Weather delay is caused by extreme or hazardous weather conditions that are forecasted or manifest themselves\n",
    "on point of departure, enroute, or on point of arrival.\n"
   ]
  },
  {
   "cell_type": "code",
   "execution_count": null,
   "metadata": {},
   "outputs": [],
   "source": [
    "df = df1.loc[(df1['WeatherDelay'] != 0, ['ARRIVAL_DELAY'])]\n",
    "\n",
    "delays_airweather = df1.loc[(df1['WeatherDelay'] > 0, ['ARRIVAL_DELAY'])].sum()\n",
    "notdelayed_airweather = df1.loc[(df1['WeatherDelay'] <= 0, ['ARRIVAL_DELAY'])].sum()\n",
    "\n",
    "count_weather = df[(df1['WeatherDelay'] != 0)].count()\n",
    "count_weather_pos = df1.loc[(df1['WeatherDelay'] > 0, ['ARRIVAL_DELAY'])].count()"
   ]
  },
  {
   "cell_type": "markdown",
   "metadata": {},
   "source": [
    "<h3>****Summery on delay and not delayed****</h3> "
   ]
  },
  {
   "cell_type": "code",
   "execution_count": null,
   "metadata": {},
   "outputs": [],
   "source": [
    "\n",
    "delays = []\n",
    "only_delays = []\n",
    "\n",
    "# Average delay time accounting for delayed and not delayed flights\n",
    "\n",
    "system = (delays_airsys + notdelayed_airsys) / count_sys\n",
    "security = (delays_airsec + notdelayed_airsec) / count_sec\n",
    "airline = (delays_airair + notdelayed_airair) / count_air\n",
    "late = (delays_airlate + notdelayed_airlate) / count_late\n",
    "weather = (delays_airweather + notdelayed_airweather) / count_weather\n",
    "\n",
    "# Average delay time NOT accounting non-delayed flights\n",
    "\n",
    "system_pos = delays_airsys / count_sys_pos\n",
    "security_pos = delays_airsec / count_sec_pos\n",
    "airline_pos = delays_airair  / count_air_pos\n",
    "late_pos = delays_airlate / count_late_pos\n",
    "weather_pos = delays_airweather/ count_weather_pos\n",
    "\n",
    "# Append to array to ease access later\n",
    "\n",
    "delays.append(system)\n",
    "delays.append(security)\n",
    "delays.append(airline)\n",
    "delays.append(late)\n",
    "delays.append(weather)\n",
    "\n",
    "# Append only delayed flights\n",
    "\n",
    "only_delays.append(system_pos)\n",
    "only_delays.append(security_pos)\n",
    "only_delays.append(airline_pos)\n",
    "only_delays.append(late_pos)\n",
    "only_delays.append(weather_pos)\n",
    "\n",
    "# Print average times\n",
    "\n",
    "delays\n"
   ]
  },
  {
   "cell_type": "code",
   "execution_count": null,
   "metadata": {},
   "outputs": [],
   "source": [
    "print(only_delays)"
   ]
  },
  {
   "cell_type": "code",
   "execution_count": null,
   "metadata": {},
   "outputs": [],
   "source": [
    "#Ploting \n",
    "plt.figure(figsize=(20, 8))\n",
    "\n",
    "\n",
    "# Print each delayed flight due to all reasons\n",
    "\n",
    "ax1 = df1.plot(kind='scatter', x='CRSDepTime', y='NASDelay',figsize=(20,8), color='r')\n",
    "ax2 = df1.plot(kind='scatter', x='CRSDepTime', y='SecurityDelay', color='b', ax=ax1)\n",
    "ax3 = df1.plot(kind='scatter', x='CRSDepTime', y='CarrierDelay', color='y', ax=ax1)\n",
    "ax4 = df1.plot(kind='scatter', x='CRSDepTime', y='LateAircraftDelay', color='g', ax=ax1)\n",
    "ax5 = df1.plot(kind='scatter', x='CRSDepTime', y='WeatherDelay', color='m', ax=ax1)\n",
    "\n",
    "\n",
    "# Plot, plot, plot!\n",
    "\n",
    "ax1.set_xlabel(\"Time (HHMM)\")\n",
    "ax1.set_ylabel(\"Time Delayed\")\n",
    "plt.title('All Delays')"
   ]
  },
  {
   "cell_type": "code",
   "execution_count": null,
   "metadata": {},
   "outputs": [],
   "source": [
    "plt.figure(figsize=(20, 8))\n",
    "ax1 = df1.plot(kind='scatter', x='CRSDepTime', y='WeatherDelay', figsize=(20,8), color='r')\n",
    "ax1.set_xlabel(\"Time (HHMM)\")\n",
    "ax1.set_ylabel(\"Time Delayed\")\n",
    "plt.title('Weather Delays')"
   ]
  },
  {
   "cell_type": "code",
   "execution_count": null,
   "metadata": {},
   "outputs": [],
   "source": [
    "labels = 'Weather', 'Late Arrival', 'Carrier', 'Security', 'Air System'\n",
    "sizes = [delays_airweather, delays_airlate, delays_airair, delays_airsec, delays_airsys]\n",
    "explode = (0.1, 0.1, 0.1, 0.1, 0.1)\n",
    "colors=['magenta','green','yellow','blue','red']\n",
    "\n",
    "fig1, ax1 = plt.subplots(figsize=(8,8))\n",
    "ax1.pie(sizes, colors=colors,labels=labels, autopct='%1.2f%%',\n",
    "        shadow=True, explode=explode, startangle=90, center=(0,0))\n",
    "ax1.axis('equal')\n",
    "\n",
    "\n",
    "plt.show()"
   ]
  },
  {
   "cell_type": "code",
   "execution_count": null,
   "metadata": {},
   "outputs": [],
   "source": []
  },
  {
   "cell_type": "code",
   "execution_count": null,
   "metadata": {},
   "outputs": [],
   "source": []
  },
  {
   "cell_type": "code",
   "execution_count": null,
   "metadata": {},
   "outputs": [],
   "source": []
  }
 ],
 "metadata": {
  "kernelspec": {
   "display_name": "Python 3",
   "language": "python",
   "name": "python3"
  },
  "language_info": {
   "codemirror_mode": {
    "name": "ipython",
    "version": 3
   },
   "file_extension": ".py",
   "mimetype": "text/x-python",
   "name": "python",
   "nbconvert_exporter": "python",
   "pygments_lexer": "ipython3",
   "version": "3.7.6"
  }
 },
 "nbformat": 4,
 "nbformat_minor": 4
}
